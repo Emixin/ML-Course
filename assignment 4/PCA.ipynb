{
 "cells": [
  {
   "cell_type": "markdown",
   "metadata": {},
   "source": [
    "Creating the matrix X"
   ]
  },
  {
   "cell_type": "code",
   "execution_count": 18,
   "metadata": {},
   "outputs": [],
   "source": [
    "import numpy as np\n",
    "\n",
    "X = np.array([\n",
    "    [2, 4, 6],\n",
    "    [4, 6, 8],\n",
    "    [6, 8, 10],\n",
    "    [8, 10, 12]\n",
    "])"
   ]
  },
  {
   "cell_type": "markdown",
   "metadata": {},
   "source": [
    "Computing the mean of each Feature"
   ]
  },
  {
   "cell_type": "code",
   "execution_count": 19,
   "metadata": {},
   "outputs": [
    {
     "name": "stdout",
     "output_type": "stream",
     "text": [
      "mean_X is [5. 7. 9.]\n"
     ]
    }
   ],
   "source": [
    "mean_X = np.mean(X, axis=0)\n",
    "print(f\"mean_X is {mean_X}\")"
   ]
  },
  {
   "cell_type": "markdown",
   "metadata": {},
   "source": [
    "Centering the data"
   ]
  },
  {
   "cell_type": "code",
   "execution_count": 20,
   "metadata": {},
   "outputs": [
    {
     "name": "stdout",
     "output_type": "stream",
     "text": [
      "\n",
      "X_centered is\n",
      "[[-3. -3. -3.]\n",
      " [-1. -1. -1.]\n",
      " [ 1.  1.  1.]\n",
      " [ 3.  3.  3.]]\n"
     ]
    }
   ],
   "source": [
    "X_centered = X - mean_X\n",
    "print(f\"\\nX_centered is\\n{X_centered}\")"
   ]
  },
  {
   "cell_type": "markdown",
   "metadata": {},
   "source": [
    "Computing the covariance matrix"
   ]
  },
  {
   "cell_type": "code",
   "execution_count": 21,
   "metadata": {},
   "outputs": [
    {
     "name": "stdout",
     "output_type": "stream",
     "text": [
      "\n",
      "cov_matrix is:\n",
      "[[6.66666667 6.66666667 6.66666667]\n",
      " [6.66666667 6.66666667 6.66666667]\n",
      " [6.66666667 6.66666667 6.66666667]]\n"
     ]
    }
   ],
   "source": [
    "cov_matrix = np.cov(X_centered, rowvar=False)\n",
    "print(f\"\\ncov_matrix is:\\n{cov_matrix}\")"
   ]
  },
  {
   "cell_type": "markdown",
   "metadata": {},
   "source": [
    "Computing the eigen values and eigen vectors covariance matrix"
   ]
  },
  {
   "cell_type": "code",
   "execution_count": 25,
   "metadata": {},
   "outputs": [
    {
     "name": "stdout",
     "output_type": "stream",
     "text": [
      "eigen values are: [ 0. 20.  0.]\n",
      "eigen vectors are:\n",
      "[[-0.81649658  0.57735027  0.        ]\n",
      " [ 0.40824829  0.57735027 -0.70710678]\n",
      " [ 0.40824829  0.57735027  0.70710678]]\n"
     ]
    }
   ],
   "source": [
    "eigenvalues, eigenvectors = np.linalg.eig(cov_matrix)\n",
    "print(f\"eigen values are: {eigenvalues}\\neigen vectors are:\\n{eigenvectors}\")"
   ]
  },
  {
   "cell_type": "markdown",
   "metadata": {},
   "source": [
    "Sorting eigenvalues and eigenvectors in descending order"
   ]
  },
  {
   "cell_type": "code",
   "execution_count": 27,
   "metadata": {},
   "outputs": [
    {
     "name": "stdout",
     "output_type": "stream",
     "text": [
      "[0 2 1]\n",
      "sorted eigen values: [20.  0.  0.]\n",
      "sorted eigen vectors: [[ 0.57735027 -0.81649658  0.        ]\n",
      " [ 0.57735027  0.40824829 -0.70710678]\n",
      " [ 0.57735027  0.40824829  0.70710678]]\n"
     ]
    }
   ],
   "source": [
    "sorted_indices = np.argsort(eigenvalues)[::-1]\n",
    "eigenvalues = eigenvalues[sorted_indices]\n",
    "eigenvectors = eigenvectors[:, sorted_indices]\n",
    "print(f\"sorted eigen values: {eigenvalues}\\nsorted eigen vectors: {eigenvectors}\")"
   ]
  },
  {
   "cell_type": "markdown",
   "metadata": {},
   "source": [
    "Reducing Dimensionality from 3 Features to 2 Features"
   ]
  },
  {
   "cell_type": "code",
   "execution_count": 29,
   "metadata": {},
   "outputs": [
    {
     "name": "stdout",
     "output_type": "stream",
     "text": [
      "X_reduced is:\n",
      "[[-5.19615242e+00 -1.11022302e-16]\n",
      " [-1.73205081e+00  5.55111512e-17]\n",
      " [ 1.73205081e+00 -5.55111512e-17]\n",
      " [ 5.19615242e+00  1.11022302e-16]]\n"
     ]
    }
   ],
   "source": [
    "top_two_eigenvectors = eigenvectors[:, :2]\n",
    "X_reduced = np.dot(X_centered, top_two_eigenvectors)\n",
    "print(f\"X_reduced is:\\n{X_reduced}\")\n"
   ]
  },
  {
   "cell_type": "markdown",
   "metadata": {},
   "source": [
    "Final Transformed Data"
   ]
  },
  {
   "cell_type": "code",
   "execution_count": 32,
   "metadata": {},
   "outputs": [
    {
     "data": {
      "image/png": "[encoded data removed]",
      "text/plain": [
       "<Figure size 640x480 with 1 Axes>"
      ]
     },
     "metadata": {},
     "output_type": "display_data"
    }
   ],
   "source": [
    "import matplotlib.pyplot as plt\n",
    "\n",
    "plt.figure()\n",
    "plt.scatter(X_reduced[:, 0], X_reduced[:, 1])\n",
    "plt.xlabel(\"Principal Component 1\")\n",
    "plt.ylabel(\"Principal Component 2\")\n",
    "plt.show()"
   ]
  },
  {
   "cell_type": "code",
   "execution_count": null,
   "metadata": {},
   "outputs": [],
   "source": []
  }
 ],
 "metadata": {
  "kernelspec": {
   "display_name": "Python 3",
   "language": "python",
   "name": "python3"
  },
  "language_info": {
   "codemirror_mode": {
    "name": "ipython",
    "version": 3
   },
   "file_extension": ".py",
   "mimetype": "text/x-python",
   "name": "python",
   "nbconvert_exporter": "python",
   "pygments_lexer": "ipython3",
   "version": "3.12.0"
  }
 },
 "nbformat": 4,
 "nbformat_minor": 2
}
