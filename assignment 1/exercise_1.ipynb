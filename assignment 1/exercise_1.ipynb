{
 "cells": [
  {
   "cell_type": "code",
   "execution_count": 1,
   "id": "4b7dfa6b-299c-43e2-bbbd-a6c4f8fb2f26",
   "metadata": {},
   "outputs": [
    {
     "data": {
      "text/plain": [
       "'abcdefgh'"
      ]
     },
     "execution_count": 1,
     "metadata": {},
     "output_type": "execute_result"
    }
   ],
   "source": [
    "def find_longest_substring(s):\n",
    "    ans = ''\n",
    "    \n",
    "    l = len(s)\n",
    "    for i in range(l):\n",
    "        sub = ''\n",
    "        for j in range(i, l):\n",
    "            if s[j] not in sub:  \n",
    "                sub += s[j]\n",
    "                ans = max([ans, sub], key=len)\n",
    "            else:\n",
    "                break\n",
    "    return ans\n",
    "\n",
    "find_longest_substring(\"abcabcbb\")\n",
    "find_longest_substring(\"abcdefghabcdefgh\")\n"
   ]
  },
  {
   "cell_type": "code",
   "execution_count": 23,
   "id": "0a6e22e6-6b58-42f3-9477-9eedbac3e740",
   "metadata": {},
   "outputs": [
    {
     "data": {
      "text/plain": [
       "12"
      ]
     },
     "execution_count": 23,
     "metadata": {},
     "output_type": "execute_result"
    }
   ],
   "source": [
    "def find_gcd(a, b):\n",
    "    if b == 0:\n",
    "        return a\n",
    "    else:\n",
    "        c = a % b\n",
    "        return find_gcd(b, c)\n",
    "\n",
    "find_gcd(10 , 8)\n",
    "find_gcd(144, 12)"
   ]
  },
  {
   "cell_type": "code",
   "execution_count": 27,
   "id": "2d2ebef5-e786-4033-93f7-9f5e510aaaf8",
   "metadata": {},
   "outputs": [
    {
     "data": {
      "text/plain": [
       "[0, -0.001, -0.003, -0.006]"
      ]
     },
     "execution_count": 27,
     "metadata": {},
     "output_type": "execute_result"
    }
   ],
   "source": [
    "def sgd_optimizer(gradients, learning_rate):\n",
    "    ans = [0 for _ in range(len(gradients) + 1)]\n",
    "    for t in range(len(gradients)):\n",
    "        ans[t + 1] = ans[t] - gradients[t] * learning_rate\n",
    "        \n",
    "    return ans\n",
    "sgd_optimizer([1, 2, 3], 0.001)"
   ]
  },
  {
   "cell_type": "code",
   "execution_count": 26,
   "id": "21c24dba-5746-49ce-98f8-4a966804d6d5",
   "metadata": {},
   "outputs": [
    {
     "data": {
      "text/plain": [
       "[0, -0.0009999999900000003, -0.0019651820097183366, -0.00292318322938319]"
      ]
     },
     "execution_count": 26,
     "metadata": {},
     "output_type": "execute_result"
    }
   ],
   "source": [
    "def adam_optimizer(gradients, learning_rate=0.001, beta1=0.9, beta2=0.999, epsilon=1e-8):\n",
    "    m = [0 for _ in range(len(gradients))]\n",
    "    v = [0 for _ in range(len(gradients))]\n",
    "\n",
    "    ans = [0 for _ in range(len(gradients) + 1)]\n",
    "    for t in range(len(gradients)):\n",
    "        m[t] = beta1 * m[t - 1] + (1 - beta1) * gradients[t]\n",
    "        v[t] = beta2 * v[t - 1] + (1 - beta2) * (gradients[t] ** 2)\n",
    "\n",
    "        m_hat = m[t] / (1 - beta1 ** (t + 1))\n",
    "        v_hat = v[t] / (1 - beta2 ** (t + 1))\n",
    "\n",
    "        ans[t + 1] = ans[t] - (learning_rate * m_hat) / ((v_hat ** 0.5) + epsilon)\n",
    "    \n",
    "    return ans\n",
    "\n",
    "adam_optimizer([1, 2, 3])"
   ]
  },
  {
   "cell_type": "code",
   "execution_count": 31,
   "id": "937a046e-172e-44e8-abd9-dec8eadb0072",
   "metadata": {},
   "outputs": [
    {
     "data": {
      "text/plain": [
       "[5, 8, 9, 10, 11, 12, 14, 15]"
      ]
     },
     "execution_count": 31,
     "metadata": {},
     "output_type": "execute_result"
    }
   ],
   "source": [
    "def find_missing_numbers(lst, n):\n",
    "    missing_numbers = [number for number in range(1, n + 1)]\n",
    "    \n",
    "    for num in lst:\n",
    "        if num in missing_numbers:\n",
    "            missing_numbers.remove(num)\n",
    "\n",
    "    return missing_numbers\n",
    "\n",
    "find_missing_numbers([1, 2, 3], 5)\n",
    "find_missing_numbers([1, 2, 3, 6, 13, 4, 7], 15)"
   ]
  },
  {
   "cell_type": "code",
   "execution_count": 52,
   "id": "fa285640-1cab-432d-9e6b-5f387eb9e57a",
   "metadata": {},
   "outputs": [
    {
     "data": {
      "text/plain": [
       "[['tentile', 'litenet'], ['lower', 'rowel'], ['ravel'], ['cammel']]"
      ]
     },
     "execution_count": 52,
     "metadata": {},
     "output_type": "execute_result"
    }
   ],
   "source": [
    "def group_anagrams(words):\n",
    "    anagram_classes = {}\n",
    "\n",
    "    for word in words:\n",
    "        sorted_word = tuple(sorted(word))\n",
    "\n",
    "        if sorted_word in anagram_classes:\n",
    "            anagram_classes[sorted_word].append(word)\n",
    "        else:\n",
    "            anagram_classes[sorted_word] = [word]\n",
    "\n",
    "    return list(anagram_classes.values())\n",
    "\n",
    "\n",
    "group_anagrams([\"listen\", \"silent\", \"lowrd\", \"hello\", \"world\", \"tenlis\"])\n",
    "group_anagrams([\"tentile\", \"litenet\", \"lower\", \"rowel\", \"ravel\", \"cammel\"])"
   ]
  },
  {
   "cell_type": "code",
   "execution_count": 60,
   "id": "539dcac3-c2b9-440a-8a10-6123f45f74ed",
   "metadata": {},
   "outputs": [
    {
     "data": {
      "text/plain": [
       "{'a': 3, 'b': 4, 'd': 5, 'c': 2}"
      ]
     },
     "execution_count": 60,
     "metadata": {},
     "output_type": "execute_result"
    }
   ],
   "source": [
    "def merge_dicts(dict1, dict2):\n",
    "    merged_dict = {}\n",
    "\n",
    "    for key in dict1:\n",
    "        if key in dict2:\n",
    "            merged_dict[key] = dict1[key] + dict2[key]\n",
    "        else:\n",
    "            merged_dict[key] = dict1[key]\n",
    "            \n",
    "    for key in dict2:\n",
    "        if key not in dict1:\n",
    "            merged_dict[key] = dict2[key]\n",
    "\n",
    "    return merged_dict\n",
    "\n",
    "merge_dicts({'a': 1, 'b': 2}, {'a' : 2, 'c': 2, 'b': 2})\n",
    "merge_dicts({'a': 1, 'b': 2, 'd': 5}, {'a' : 2, 'c': 2, 'b': 2})"
   ]
  },
  {
   "cell_type": "code",
   "execution_count": 84,
   "id": "40ecc5f9-0088-48f7-9619-442dee61e50d",
   "metadata": {},
   "outputs": [
    {
     "data": {
      "text/plain": [
       "{'hello': 3}"
      ]
     },
     "execution_count": 84,
     "metadata": {},
     "output_type": "execute_result"
    }
   ],
   "source": [
    "def top_k_frequent_words(words, k):\n",
    "    frequency_dict = {}\n",
    "\n",
    "    for word in words:\n",
    "        if word in frequency_dict:\n",
    "            frequency_dict[word] += 1\n",
    "        else:\n",
    "            frequency_dict[word] = 1\n",
    "\n",
    "    frequency_dict = dict(sorted(frequency_dict.items(), key=lambda item: item[0]))\n",
    "    sorted_dict = dict(sorted(frequency_dict.items(), key=lambda item: item[1], reverse=True)[:k])\n",
    "    return sorted_dict\n",
    "\n",
    "top_k_frequent_words([\"hello\", \"hi\", \"hello\", \"hello\", \"hi\", \"bye\", \"bye\"], 2)\n",
    "top_k_frequent_words([\"hello\", \"hi\", \"hello\", \"hello\", \"hi\", \"bye\", \"bye\"], 1)"
   ]
  },
  {
   "cell_type": "code",
   "execution_count": 1,
   "id": "43a0ceb1-6b7b-4ad7-8848-d1207414eef0",
   "metadata": {},
   "outputs": [
    {
     "data": {
      "text/plain": [
       "[[1],\n",
       " [1, 1],\n",
       " [1, 2, 1],\n",
       " [1, 3, 3, 1],\n",
       " [1, 4, 6, 4, 1],\n",
       " [1, 5, 10, 10, 5, 1],\n",
       " [1, 6, 15, 20, 15, 6, 1],\n",
       " [1, 7, 21, 35, 35, 21, 7, 1],\n",
       " [1, 8, 28, 56, 70, 56, 28, 8, 1],\n",
       " [1, 9, 36, 84, 126, 126, 84, 36, 9, 1]]"
      ]
     },
     "execution_count": 1,
     "metadata": {},
     "output_type": "execute_result"
    }
   ],
   "source": [
    "def generate_pascal_triangle(rows):\n",
    "    triangle = []\n",
    "    for i in range(rows):\n",
    "        triangle.append([0 for _ in range(i + 1)])\n",
    "        \n",
    "    for j in range(rows):\n",
    "        triangle[j][0] = 1\n",
    "        triangle[j][-1] = 1\n",
    "        \n",
    "    for k in range(rows):\n",
    "        row = triangle[k]\n",
    "        l = len(row)\n",
    "        for m in range(l):\n",
    "            if row[m] == 0:\n",
    "                row[m] = triangle[k - 1][m] + triangle[k - 1][m - 1]\n",
    "                \n",
    "    return triangle\n",
    "\n",
    "generate_pascal_triangle(5)\n",
    "generate_pascal_triangle(8)\n",
    "generate_pascal_triangle(10)"
   ]
  },
  {
   "cell_type": "code",
   "execution_count": 100,
   "id": "4d8d4293-9479-4fde-b814-fa9184aa7d3a",
   "metadata": {},
   "outputs": [
    {
     "data": {
      "text/plain": [
       "[[],\n",
       " ['d'],\n",
       " ['c'],\n",
       " ['c', 'd'],\n",
       " ['b'],\n",
       " ['b', 'd'],\n",
       " ['b', 'c'],\n",
       " ['b', 'c', 'd'],\n",
       " ['a'],\n",
       " ['a', 'd'],\n",
       " ['a', 'c'],\n",
       " ['a', 'c', 'd'],\n",
       " ['a', 'b'],\n",
       " ['a', 'b', 'd'],\n",
       " ['a', 'b', 'c'],\n",
       " ['a', 'b', 'c', 'd']]"
      ]
     },
     "execution_count": 100,
     "metadata": {},
     "output_type": "execute_result"
    }
   ],
   "source": [
    "def find_subsets(lst):\n",
    "    if len(lst) == 0:\n",
    "        return [[]]\n",
    "    else:\n",
    "        subsets = find_subsets(lst[1:])\n",
    "        return subsets + [[lst[0]] + subset for subset in subsets]\n",
    "\n",
    "find_subsets([1, 2, 3])\n",
    "find_subsets(['a', 'b', 'c', 'd'])"
   ]
  },
  {
   "cell_type": "code",
   "execution_count": 2,
   "id": "3cfa6603-7aad-4174-bfc1-b00448cd4251",
   "metadata": {},
   "outputs": [
    {
     "data": {
      "text/plain": [
       "(-0.5, -1.0)"
      ]
     },
     "execution_count": 2,
     "metadata": {},
     "output_type": "execute_result"
    }
   ],
   "source": [
    "from Polynomial import Polynomial, QuadraticPolynomial\n",
    "\n",
    "new_polynomial = Polynomial([2, 3, 2])\n",
    "new_polynomial.evaluate(2)\n",
    "\n",
    "newer_polynomial = Polynomial([2, 4])\n",
    "newest_polynomial = new_polynomial.add(newer_polynomial)\n",
    "newest_polynomial.coefficient_list\n",
    "\n",
    "new_quadratic_polynomial = QuadraticPolynomial([2, 3, 1])\n",
    "new_quadratic_polynomial.find_roots()"
   ]
  },
  {
   "cell_type": "code",
   "execution_count": 33,
   "id": "5c7f4869-0865-4dbd-848e-c6078b2b0332",
   "metadata": {},
   "outputs": [
    {
     "data": {
      "text/plain": [
       "[[14, 35], [21, 64]]"
      ]
     },
     "execution_count": 33,
     "metadata": {},
     "output_type": "execute_result"
    }
   ],
   "source": [
    "class Matrix:\n",
    "    def __init__(self, data):\n",
    "        self.data = data\n",
    "        self.n = len(data)\n",
    "        self.m = len(data[0])\n",
    "\n",
    "    def add(self, other_matrix):\n",
    "        if (self.n == other_matrix.n) and (self.m == other_matrix.m):\n",
    "            new_matrix = [[self.data[i][j] + other_matrix.data[i][j] for j in range(self.m)] for i in range(self.n)]\n",
    "            return new_matrix\n",
    "        return \"matrices are not compaitable\"\n",
    "\n",
    "    def subtract(self, other_matrix):\n",
    "        if (self.n == other_matrix.n) and (self.m == other_matrix.m):\n",
    "            new_matrix = [[self.data[i][j] - other_matrix.data[i][j] for j in range(self.m)] for i in range(self.n)]\n",
    "            return new_matrix\n",
    "        return \"matrices are not compaitable\"\n",
    "\n",
    "    def multiply(self, other_matrix):\n",
    "        if len(self.data[0]) != len(other_matrix.data):\n",
    "            return \"matrices are not compaitable\"\n",
    "            \n",
    "        new_matrix = [[0 for i in range(len(self.data))] for j in range(len(other_matrix.data[0]))]\n",
    "        \n",
    "        for k in range(len(self.data)):\n",
    "            for p in range(len(other_matrix.data[0])):\n",
    "                for q in range(len(self.data[0])):\n",
    "                    new_matrix[k][p] += self.data[k][q] * other_matrix.data[q][p]\n",
    "                \n",
    "        return new_matrix\n",
    "\n",
    "\n",
    "new_matrix = Matrix([[1, 2, 3],\n",
    "                     [9, 0, 4]])\n",
    "newer_matrix = Matrix([[1, 4],\n",
    "                       [2, 5],\n",
    "                      [3, 7]])\n",
    "\n",
    "new_matrix.data\n",
    "new_matrix.add(newer_matrix)\n",
    "new_matrix.subtract(newer_matrix)\n",
    "new_matrix.multiply(newer_matrix)"
   ]
  }
 ],
 "metadata": {
  "kernelspec": {
   "display_name": "Python 3 (ipykernel)",
   "language": "python",
   "name": "python3"
  },
  "language_info": {
   "codemirror_mode": {
    "name": "ipython",
    "version": 3
   },
   "file_extension": ".py",
   "mimetype": "text/x-python",
   "name": "python",
   "nbconvert_exporter": "python",
   "pygments_lexer": "ipython3",
   "version": "3.12.3"
  }
 },
 "nbformat": 4,
 "nbformat_minor": 5
}
